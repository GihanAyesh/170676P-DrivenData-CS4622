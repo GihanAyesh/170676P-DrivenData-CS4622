{
  "nbformat": 4,
  "nbformat_minor": 2,
  "metadata": {
    "colab": {
      "name": "Model Train.ipynb",
      "provenance": [],
      "collapsed_sections": []
    },
    "kernelspec": {
      "display_name": "Python 3",
      "name": "python3"
    },
    "language_info": {
      "name": "python"
    }
  },
  "cells": [
    {
      "cell_type": "markdown",
      "source": [
        "# Setup and load preprocessed data"
      ],
      "metadata": {
        "id": "0Z7lpeSH6MRU"
      }
    },
    {
      "cell_type": "code",
      "execution_count": null,
      "source": [
        "option=\"Random Forest\" #@param['XGBoost','Random Forest','Ada Boost','Logistic Regression']"
      ],
      "outputs": [],
      "metadata": {
        "id": "sLqc_9uYbIzV"
      }
    },
    {
      "cell_type": "code",
      "execution_count": null,
      "source": [
        "%matplotlib inline"
      ],
      "outputs": [],
      "metadata": {
        "id": "xsg5NX4zctW3"
      }
    },
    {
      "cell_type": "code",
      "execution_count": null,
      "source": [
        "import pandas as pd\r\n",
        "import tensorflow as tf\r\n",
        "from sklearn.metrics import mean_squared_error\r\n",
        "import numpy as np\r\n",
        "from sklearn.model_selection import train_test_split\r\n",
        "import matplotlib.pyplot as plt\r\n",
        "import random\r\n",
        "pd.plotting.register_matplotlib_converters()\r\n",
        "import matplotlib.pyplot as plt\r\n",
        "import seaborn as sns\r\n",
        "from sklearn.metrics import f1_score\r\n",
        "plt.rcParams[\"figure.figsize\"] = (20,10)"
      ],
      "outputs": [],
      "metadata": {
        "id": "pi9vpBrQ3FGF"
      }
    },
    {
      "cell_type": "code",
      "execution_count": null,
      "source": [
        "from google.colab import drive\r\n",
        "drive.mount('/content/drive')"
      ],
      "outputs": [
        {
          "output_type": "stream",
          "name": "stdout",
          "text": [
            "Drive already mounted at /content/drive; to attempt to forcibly remount, call drive.mount(\"/content/drive\", force_remount=True).\n"
          ]
        }
      ],
      "metadata": {
        "colab": {
          "base_uri": "https://localhost:8080/"
        },
        "id": "CjCW1u9X2vx7",
        "outputId": "47290e21-2bab-4813-ffee-0317324db088"
      }
    },
    {
      "cell_type": "code",
      "execution_count": null,
      "source": [
        "base_path = '/content/drive/My Drive/ML/'\r\n",
        "train_features_file = base_path + 'preprocessed_train.csv'\r\n",
        "train_labels_file = base_path + 'train_set_labels.csv'\r\n",
        "test_features_file = base_path + 'preprocessed_test.csv'"
      ],
      "outputs": [],
      "metadata": {
        "id": "T4UaDwfV2-Hs"
      }
    },
    {
      "cell_type": "code",
      "execution_count": null,
      "source": [
        "train_df = pd.read_csv(train_features_file)\r\n",
        "labels_df = pd.read_csv(train_labels_file)\r\n",
        "test_df = pd.read_csv(test_features_file)\r\n",
        "results_df = pd.DataFrame()\r\n",
        "results_df['id'] = test_df['id']\r\n",
        "labels = labels_df['status_group']\r\n",
        "test_df=test_df.drop(['id'],axis=1)"
      ],
      "outputs": [],
      "metadata": {
        "colab": {
          "background_save": true
        },
        "id": "Ma40x74r3Bpu"
      }
    },
    {
      "cell_type": "code",
      "execution_count": null,
      "source": [
        "labels_df"
      ],
      "outputs": [
        {
          "output_type": "execute_result",
          "data": {
            "text/html": [
              "<div>\n",
              "<style scoped>\n",
              "    .dataframe tbody tr th:only-of-type {\n",
              "        vertical-align: middle;\n",
              "    }\n",
              "\n",
              "    .dataframe tbody tr th {\n",
              "        vertical-align: top;\n",
              "    }\n",
              "\n",
              "    .dataframe thead th {\n",
              "        text-align: right;\n",
              "    }\n",
              "</style>\n",
              "<table border=\"1\" class=\"dataframe\">\n",
              "  <thead>\n",
              "    <tr style=\"text-align: right;\">\n",
              "      <th></th>\n",
              "      <th>id</th>\n",
              "      <th>status_group</th>\n",
              "    </tr>\n",
              "  </thead>\n",
              "  <tbody>\n",
              "    <tr>\n",
              "      <th>0</th>\n",
              "      <td>69572</td>\n",
              "      <td>functional</td>\n",
              "    </tr>\n",
              "    <tr>\n",
              "      <th>1</th>\n",
              "      <td>8776</td>\n",
              "      <td>functional</td>\n",
              "    </tr>\n",
              "    <tr>\n",
              "      <th>2</th>\n",
              "      <td>34310</td>\n",
              "      <td>functional</td>\n",
              "    </tr>\n",
              "    <tr>\n",
              "      <th>3</th>\n",
              "      <td>67743</td>\n",
              "      <td>non functional</td>\n",
              "    </tr>\n",
              "    <tr>\n",
              "      <th>4</th>\n",
              "      <td>19728</td>\n",
              "      <td>functional</td>\n",
              "    </tr>\n",
              "    <tr>\n",
              "      <th>...</th>\n",
              "      <td>...</td>\n",
              "      <td>...</td>\n",
              "    </tr>\n",
              "    <tr>\n",
              "      <th>59395</th>\n",
              "      <td>60739</td>\n",
              "      <td>functional</td>\n",
              "    </tr>\n",
              "    <tr>\n",
              "      <th>59396</th>\n",
              "      <td>27263</td>\n",
              "      <td>functional</td>\n",
              "    </tr>\n",
              "    <tr>\n",
              "      <th>59397</th>\n",
              "      <td>37057</td>\n",
              "      <td>functional</td>\n",
              "    </tr>\n",
              "    <tr>\n",
              "      <th>59398</th>\n",
              "      <td>31282</td>\n",
              "      <td>functional</td>\n",
              "    </tr>\n",
              "    <tr>\n",
              "      <th>59399</th>\n",
              "      <td>26348</td>\n",
              "      <td>functional</td>\n",
              "    </tr>\n",
              "  </tbody>\n",
              "</table>\n",
              "<p>59400 rows × 2 columns</p>\n",
              "</div>"
            ],
            "text/plain": [
              "          id    status_group\n",
              "0      69572      functional\n",
              "1       8776      functional\n",
              "2      34310      functional\n",
              "3      67743  non functional\n",
              "4      19728      functional\n",
              "...      ...             ...\n",
              "59395  60739      functional\n",
              "59396  27263      functional\n",
              "59397  37057      functional\n",
              "59398  31282      functional\n",
              "59399  26348      functional\n",
              "\n",
              "[59400 rows x 2 columns]"
            ]
          },
          "metadata": {},
          "execution_count": 22
        }
      ],
      "metadata": {
        "colab": {
          "base_uri": "https://localhost:8080/",
          "height": 419
        },
        "id": "ErVJr0QsnNaY",
        "outputId": "0af8f300-a638-4489-bbdd-978c3bae79b7"
      }
    },
    {
      "cell_type": "code",
      "execution_count": null,
      "source": [
        "train_df.info()"
      ],
      "outputs": [
        {
          "output_type": "stream",
          "name": "stdout",
          "text": [
            "<class 'pandas.core.frame.DataFrame'>\n",
            "RangeIndex: 59400 entries, 0 to 59399\n",
            "Columns: 103 entries, amount_tsh to waterpoint_type_other\n",
            "dtypes: bool(2), float64(5), int64(96)\n",
            "memory usage: 45.9 MB\n"
          ]
        }
      ],
      "metadata": {
        "colab": {
          "base_uri": "https://localhost:8080/"
        },
        "id": "tz3r-pZ--Dr5",
        "outputId": "455b9fec-0a95-41f1-9b4d-c0f730798fef"
      }
    },
    {
      "cell_type": "markdown",
      "source": [
        "# Model Creation"
      ],
      "metadata": {
        "id": "l2yPzbl3biQG"
      }
    },
    {
      "cell_type": "code",
      "execution_count": null,
      "source": [
        "rnd = random.randint(1, 32000) "
      ],
      "outputs": [],
      "metadata": {
        "id": "YPtWuQtO-JJC"
      }
    },
    {
      "cell_type": "code",
      "execution_count": null,
      "source": [
        "from sklearn.linear_model import LogisticRegression\r\n",
        "from sklearn.ensemble import RandomForestClassifier\r\n",
        "from sklearn.ensemble import AdaBoostClassifier\r\n",
        "import xgboost as xgb\r\n",
        "\r\n",
        "def createModel(option):\r\n",
        "  if option=='Logistic Regression':\r\n",
        "    model = LogisticRegression(multi_class='multinomial')\r\n",
        "  if option=='Random Forest':\r\n",
        "    model = RandomForestClassifier(n_estimators=200, max_depth=None, min_samples_split=6, min_samples_leaf=1, \r\n",
        "                               max_features='auto', min_impurity_decrease=0.0, min_impurity_split=None, \r\n",
        "                               bootstrap=True, warm_start=True)\r\n",
        "  if option=='Ada Boost':\r\n",
        "    model = AdaBoostClassifier( n_estimators=50, learning_rate=1.0, random_state=None)\r\n",
        "  if option=='XGBoost':\r\n",
        "    model = xgb.XGBClassifier(base_score=0.5, booster='gbtree', colsample_bytree=0.4, gamma=0.0,\r\n",
        "                importance_type='gain', learning_rate=0.05,max_depth=3, min_child_weight=7, \r\n",
        "                n_estimators=100,n_jobs=1,num_class=3, objective='multi:softmax',\r\n",
        "                random_state=0, reg_lambda=1, scale_pos_weight=1,subsample=1, verbosity=1)\r\n",
        "  return model"
      ],
      "outputs": [],
      "metadata": {
        "id": "U6Xy-sKQbhkE"
      }
    },
    {
      "cell_type": "markdown",
      "source": [
        "# Train sample model"
      ],
      "metadata": {
        "id": "usKZ8C8LcahT"
      }
    },
    {
      "cell_type": "code",
      "execution_count": null,
      "source": [
        "X_train, X_eval, y_train, y_eval = train_test_split(train_df,labels,test_size=0.2,shuffle=True)"
      ],
      "outputs": [],
      "metadata": {
        "id": "AHqeC5mu-PFL"
      }
    },
    {
      "cell_type": "code",
      "execution_count": null,
      "source": [
        "model=createModel(option)\r\n",
        "model.fit(X_train, y_train)\r\n",
        "predictions = model.predict(X_eval)\r\n",
        "f1_score(y_eval, predictions, average=None)"
      ],
      "outputs": [
        {
          "output_type": "execute_result",
          "data": {
            "text/plain": [
              "array([0.84749232, 0.42773723, 0.80693297])"
            ]
          },
          "metadata": {},
          "execution_count": 33
        }
      ],
      "metadata": {
        "colab": {
          "base_uri": "https://localhost:8080/"
        },
        "id": "AcNy57xfcHC8",
        "outputId": "f61cea9a-9ed9-4a13-a9e7-9a5441c19b86"
      }
    },
    {
      "cell_type": "markdown",
      "source": [
        "# Train final model"
      ],
      "metadata": {
        "id": "OGf44rdb6cKL"
      }
    },
    {
      "cell_type": "code",
      "execution_count": null,
      "source": [
        "model=createModel(option)\r\n",
        "model.fit(train_df, labels)"
      ],
      "outputs": [
        {
          "output_type": "execute_result",
          "data": {
            "text/plain": [
              "RandomForestClassifier(bootstrap=True, ccp_alpha=0.0, class_weight=None,\n",
              "                       criterion='gini', max_depth=None, max_features='auto',\n",
              "                       max_leaf_nodes=None, max_samples=None,\n",
              "                       min_impurity_decrease=0.0, min_impurity_split=None,\n",
              "                       min_samples_leaf=1, min_samples_split=6,\n",
              "                       min_weight_fraction_leaf=0.0, n_estimators=200,\n",
              "                       n_jobs=None, oob_score=False, random_state=None,\n",
              "                       verbose=0, warm_start=True)"
            ]
          },
          "metadata": {},
          "execution_count": 34
        }
      ],
      "metadata": {
        "colab": {
          "base_uri": "https://localhost:8080/"
        },
        "id": "yLZIrbjpcNf9",
        "outputId": "fd1a724d-5352-4d32-a588-677954e1f84f"
      }
    },
    {
      "cell_type": "code",
      "execution_count": null,
      "source": [
        "final_set = model.predict(test_df)"
      ],
      "outputs": [],
      "metadata": {
        "id": "zYQ7z4HG-cGp"
      }
    },
    {
      "cell_type": "code",
      "execution_count": null,
      "source": [
        "final_set"
      ],
      "outputs": [
        {
          "output_type": "execute_result",
          "data": {
            "text/plain": [
              "array(['functional', 'functional', 'functional', ..., 'functional',\n",
              "       'functional', 'non functional'], dtype=object)"
            ]
          },
          "metadata": {},
          "execution_count": 37
        }
      ],
      "metadata": {
        "colab": {
          "base_uri": "https://localhost:8080/"
        },
        "id": "qyf7szbEdqDs",
        "outputId": "abfd734e-0162-4305-a429-74f8dddf5a53"
      }
    },
    {
      "cell_type": "code",
      "execution_count": null,
      "source": [
        "results_df['status_group'] = pd.DataFrame(final_set)\r\n",
        "results_df.to_csv('results.csv',index=False)"
      ],
      "outputs": [],
      "metadata": {
        "id": "DbjTU0ls-fFj"
      }
    },
    {
      "cell_type": "markdown",
      "source": [
        "# PDP"
      ],
      "metadata": {
        "id": "toPJP90h6hvz"
      }
    },
    {
      "cell_type": "code",
      "execution_count": null,
      "source": [
        "from sklearn.inspection import plot_partial_dependence\r\n",
        "from sklearn.datasets import make_friedman1\r\n",
        "from sklearn.linear_model import LinearRegression\r\n",
        "from sklearn.ensemble import RandomForestRegressor"
      ],
      "outputs": [],
      "metadata": {
        "id": "2lSiq3L19E9K"
      }
    },
    {
      "cell_type": "code",
      "execution_count": null,
      "source": [
        "from tensorflow.keras.utils import to_categorical\r\n",
        "labels_df['status_group'].replace({'functional': 2, 'functional needs repair':1, 'non functional': 0}, inplace=True)\r\n",
        "labels = labels_df['status_group']"
      ],
      "outputs": [],
      "metadata": {
        "id": "ZeHW5hkO9x6X"
      }
    },
    {
      "cell_type": "code",
      "execution_count": null,
      "source": [
        "labels = to_categorical(labels, 3)"
      ],
      "outputs": [],
      "metadata": {
        "id": "JuboGjnEAFAk"
      }
    },
    {
      "cell_type": "code",
      "execution_count": null,
      "source": [
        "labels.shape"
      ],
      "outputs": [
        {
          "output_type": "execute_result",
          "data": {
            "text/plain": [
              "(59400, 3)"
            ]
          },
          "metadata": {},
          "execution_count": 20
        }
      ],
      "metadata": {
        "colab": {
          "base_uri": "https://localhost:8080/"
        },
        "id": "8diJpfPTAH-Y",
        "outputId": "6e174ffa-32e4-4645-dc50-371f34efdd27"
      }
    },
    {
      "cell_type": "code",
      "execution_count": null,
      "source": [
        "est1 = LinearRegression().fit(train_df, labels)\r\n",
        "est2 = RandomForestRegressor().fit(train_df, labels)\r\n",
        "disp1 = plot_partial_dependence(est1, train_df,[1, 5])  \r\n",
        "disp2 = plot_partial_dependence(est2, train_df, [1, 5],ax=disp1.axes_)  "
      ],
      "outputs": [],
      "metadata": {
        "colab": {
          "base_uri": "https://localhost:8080/",
          "height": 357
        },
        "id": "Wx3yiQ239Xd5",
        "outputId": "ec4153f1-5f7f-4d4a-888d-2d9ba806dd52"
      }
    }
  ]
}